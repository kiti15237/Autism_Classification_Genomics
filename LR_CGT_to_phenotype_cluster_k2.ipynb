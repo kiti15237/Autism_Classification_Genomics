{
 "cells": [
  {
   "cell_type": "markdown",
   "metadata": {},
   "source": [
    "# Predicting Phenotype cluster from Genotype for k=2\n",
    "\n",
    "0/1 classification with logistic regression is a well-studied problem.  In order to familiarize myself with standard logistic regression techniques and begin to work on predicting phenotype clusters from genotype, I will first attempt to predict phenotype clusters with k=2.  This reduces the problem to binary classification.\n",
    "\n",
    "Author: Rachael Caelie \"Rocky\" Aikens\n",
    " \n",
    "Created: 0ct 30, 2017\n",
    " \n",
    "Version: 2"
   ]
  },
  {
   "cell_type": "code",
   "execution_count": 1,
   "metadata": {
    "collapsed": true
   },
   "outputs": [],
   "source": [
    "import numpy as np\n",
    "import pandas as pd\n",
    "import matplotlib.pyplot as plt\n",
    "import os\n",
    "from sklearn.model_selection import train_test_split\n",
    "import random"
   ]
  },
  {
   "cell_type": "markdown",
   "metadata": {},
   "source": [
    "## Data preprocessing\n",
    "\n",
    "We have genotype information for siblings from the Agre and Simons Simplex Collection, which has been featurized into a binary matrix (described below). In addition to that, we have ADOS/ADI-R scores for a subset of those individuals, which Kelley Paskov has used to generate soft clusterings of these subjects.\n",
    "\n",
    "### Feature Data (Genotype)\n",
    "\n",
    "The input data is represented as a binary matrix.  There are a couple different representations we can use here, but to start I will use 1 = loss of function variant(compound het or homozygous alternate), 0 = no loss of function variant."
   ]
  },
  {
   "cell_type": "code",
   "execution_count": 3,
   "metadata": {
    "collapsed": false
   },
   "outputs": [
    {
     "name": "stdout",
     "output_type": "stream",
     "text": [
      "Cases:  1616\n",
      "Controls:  349\n"
     ]
    }
   ],
   "source": [
    "# load input feature dataset for Agre\n",
    "Agre_asd = pd.read_csv(\"data/v34_lof_asd_af0.50.txt\", index_col=0).transpose()\n",
    "Agre_ctrl = pd.read_csv(\"data/v34_lof_typical_af0.50.txt\", index_col=0).transpose()\n",
    "\n",
    "print \"Cases: \", Agre_asd.shape[0]\n",
    "print \"Controls: \", Agre_ctrl.shape[0]"
   ]
  },
  {
   "cell_type": "code",
   "execution_count": 4,
   "metadata": {
    "collapsed": false
   },
   "outputs": [
    {
     "name": "stdout",
     "output_type": "stream",
     "text": [
      "Cases:  517\n",
      "Controls:  518\n"
     ]
    }
   ],
   "source": [
    "# load input feature dataset for SSC\n",
    "SSC_asd = pd.read_csv(\"data/SSC_lof_asd_af0.50.txt\", index_col=0).transpose()\n",
    "SSC_ctrl = pd.read_csv(\"data/SSC_lof_typical_af0.50.txt\", index_col=0).transpose()\n",
    "\n",
    "print \"Cases: \", SSC_asd.shape[0]\n",
    "print \"Controls: \", SSC_ctrl.shape[0]"
   ]
  },
  {
   "cell_type": "code",
   "execution_count": 14,
   "metadata": {
    "collapsed": true
   },
   "outputs": [],
   "source": [
    "# merge SSC and Agre data\n",
    "X_asd = pd.concat([SSC_asd, Agre_asd], axis = 0).fillna(0)\n",
    "X_ctrl = pd.concat([SSC_ctrl, Agre_ctrl], axis = 0).fillna(0)"
   ]
  },
  {
   "cell_type": "code",
   "execution_count": 15,
   "metadata": {
    "collapsed": false
   },
   "outputs": [
    {
     "name": "stdout",
     "output_type": "stream",
     "text": [
      "Total cases:  2133\n",
      "Total controls:  867\n",
      "Features (ie. genes):  1109\n",
      "Missing Values:  0\n"
     ]
    }
   ],
   "source": [
    "X = pd.concat([X_asd, X_ctrl], axis=0)\n",
    "print \"Total cases: \", X_asd.shape[0]\n",
    "print \"Total controls: \", X_ctrl.shape[0]\n",
    "print \"Features (ie. genes): \", X.shape[1]\n",
    "print \"Missing Values: \", int(X.isnull().values.any())"
   ]
  },
  {
   "cell_type": "markdown",
   "metadata": {},
   "source": [
    "**Note**: In practice, we'll find that most of the 'control' subjects in both Agre and SSC do not have ADOS/ADI-R information or phenotype cluster assignments, which means that they will be excluded from our analysis (see **Filtering for Overlap**)"
   ]
  },
  {
   "cell_type": "markdown",
   "metadata": {},
   "source": [
    "### Target Data (Phenotype cluster)\n",
    "\n",
    "We have soft k means cluster membership information for an overlapping set of individuals, for varying values of k.  As mentioned above, we will focus herein on k = 2, since this reduces to a binary classification problem."
   ]
  },
  {
   "cell_type": "code",
   "execution_count": 5,
   "metadata": {
    "collapsed": false
   },
   "outputs": [],
   "source": [
    "# load outcome dataset\n",
    "Y_soft_2 = pd.read_csv(\"/scratch/PI/dpwall/DATA/iHART/kpaskov/PhenotypeGLRM/data/softkmeans_logloss_X2.csv\", index_col=0, header = None)"
   ]
  },
  {
   "cell_type": "markdown",
   "metadata": {},
   "source": [
    "#### Getting hard cluster definitions\n",
    "\n",
    "For softmax regression to work, we need hard rather than soft labels for our dataset. We will turn our soft clustering into a hard one by assigning each subject to the cluster with the highest associated membership value."
   ]
  },
  {
   "cell_type": "code",
   "execution_count": 6,
   "metadata": {
    "collapsed": false
   },
   "outputs": [
    {
     "name": "stdout",
     "output_type": "stream",
     "text": [
      "2    7879\n",
      "1    5555\n",
      "dtype: int64\n"
     ]
    }
   ],
   "source": [
    "Y_2 = Y_soft_2.idxmax(axis = 1)\n",
    "print Y_2.value_counts()"
   ]
  },
  {
   "cell_type": "markdown",
   "metadata": {},
   "source": [
    "### Filtering for Overlap\n",
    "Once we import the data, we need to reconstruct X and Y so that they contain the same subjects in the same order."
   ]
  },
  {
   "cell_type": "code",
   "execution_count": 18,
   "metadata": {
    "collapsed": false
   },
   "outputs": [
    {
     "name": "stdout",
     "output_type": "stream",
     "text": [
      "868 subjects in X are not in y.  Of these, 5 are cases and 863 are controls.\n",
      "This leaves 2132 subjects: 2128 cases and 4 controls.\n"
     ]
    }
   ],
   "source": [
    "# get lists of individuals in X and Y\n",
    "m_x = X.index.values.tolist()\n",
    "m_x_asd = X_asd.index.tolist()\n",
    "m_x_ctrl = X_ctrl.index.tolist()\n",
    "m_y = Y_2.index.values.tolist()\n",
    "\n",
    "# check subject overlap between X and Y\n",
    "print \"%d subjects in X are not in y.  Of these, %d are cases and %d are controls.\" % (len(set(m_x) - set(m_y)), len(set(m_x_asd) - set(m_y)), len(set(m_x_ctrl) - set(m_y)))\n",
    "\n",
    "# make a list of Subject IDs with overlap\n",
    "subjects = list(set(m_x) & set(m_y))\n",
    "print \"This leaves %d subjects: %d cases and %d controls.\" % (len(subjects), len(set(m_x_asd) & set(m_y)), len(set(m_x_ctrl)&set(m_y))) "
   ]
  },
  {
   "cell_type": "markdown",
   "metadata": {},
   "source": [
    "**Note:** The set of \"cases\" and \"controls\" appear to be differently defined between the iHart Phenotype labels (see `LR_CGT_to_diagnosis.ipynb`) and the CGT matrix labels. "
   ]
  },
  {
   "cell_type": "code",
   "execution_count": 19,
   "metadata": {
    "collapsed": false
   },
   "outputs": [
    {
     "name": "stdout",
     "output_type": "stream",
     "text": [
      "True\n"
     ]
    }
   ],
   "source": [
    "# redefine X and Y to contain only individuals with genotype and phenotype data\n",
    "X = X.ix[subjects]\n",
    "Y_2 = Y_2.ix[subjects]\n",
    "\n",
    "# check we have the same subject IDs in the same order for X and Y\n",
    "print Y_2.index.values.tolist() == X.index.values.tolist()"
   ]
  },
  {
   "cell_type": "markdown",
   "metadata": {},
   "source": [
    "## Hold-out Test Set\n",
    "\n",
    "Since we have ~1,600 examples, I'm going to hold out 20% of the data as a test set and then do 5 fold cross validation using built-in sklearn methods."
   ]
  },
  {
   "cell_type": "code",
   "execution_count": 20,
   "metadata": {
    "collapsed": false
   },
   "outputs": [],
   "source": [
    "random.seed(143)\n",
    "X_train, X_test, y_train, y_test = train_test_split(X, Y_2, test_size=0.2)"
   ]
  },
  {
   "cell_type": "markdown",
   "metadata": {},
   "source": [
    "## Logistic Regression\n",
    "\n",
    "### Model and training parameters\n",
    "\n",
    "I am going to implement logistic regression using sklearn.\n",
    "\n",
    "We'll start with the following parameters:\n",
    "\n",
    "**Cost function**\n",
    "- Penalty distance metric = $L_2$\n",
    "- Dual formulation = `False` (better when $m$ > $n$)\n",
    "- c ($\\frac{1}{\\lambda}$ for regularization) = 1\n",
    "\n",
    "**Optimization Algorithm**\n",
    "- tolerance for convergence = $1\\times 10^{-4}$\n",
    "- optimization algorithm = liblinear\n",
    "\n",
    "**Model definition**\n",
    "- fit_intercept = `True`\n",
    "- class weighting = None\n",
    "- multi_class = 'ovr'\n",
    "\n",
    "More or less, these are the sklearn defaults, which I can tune at a later point.\n",
    "\n",
    "I've built a python object called EvalLR which will help me run cross validation for my regression models and output plots and statistics.  The following code initializes an EvalLR with the logistic regression model described above:"
   ]
  },
  {
   "cell_type": "code",
   "execution_count": null,
   "metadata": {
    "collapsed": false
   },
   "outputs": [],
   "source": [
    "# Import EvalLR\n",
    "import class_EvalLR\n",
    "reload(class_EvalLR)\n",
    "from class_EvalLR import EvalLR"
   ]
  },
  {
   "cell_type": "code",
   "execution_count": 22,
   "metadata": {
    "collapsed": true
   },
   "outputs": [],
   "source": [
    "evalr = EvalLR(X_train, y_train)"
   ]
  },
  {
   "cell_type": "code",
   "execution_count": 23,
   "metadata": {
    "collapsed": false
   },
   "outputs": [
    {
     "name": "stdout",
     "output_type": "stream",
     "text": [
      "\n",
      "Running cross validation for fold 1:\n",
      "===========================================\n",
      "Train Score: 0.710000 Test Score: 0.248276\n"
     ]
    },
    {
     "data": {
      "image/png": "[encoded data removed]",
      "text/plain": [
       "<matplotlib.figure.Figure at 0x2b0b0bc04290>"
      ]
     },
     "metadata": {},
     "output_type": "display_data"
    },
    {
     "name": "stdout",
     "output_type": "stream",
     "text": [
      "\n",
      "Running cross validation for fold 2:\n",
      "===========================================\n",
      "Train Score: 0.740291 Test Score: 0.331034\n"
     ]
    },
    {
     "data": {
      "text/plain": [
       "<matplotlib.figure.Figure at 0x2b0b81942110>"
      ]
     },
     "metadata": {},
     "output_type": "display_data"
    },
    {
     "data": {
      "image/png": "[encoded data removed]",
      "text/plain": [
       "<matplotlib.figure.Figure at 0x2b0b34f5e610>"
      ]
     },
     "metadata": {},
     "output_type": "display_data"
    },
    {
     "name": "stdout",
     "output_type": "stream",
     "text": [
      "\n",
      "Running cross validation for fold 3:\n",
      "===========================================\n",
      "Train Score: 0.718711 Test Score: 0.295082\n"
     ]
    },
    {
     "data": {
      "text/plain": [
       "<matplotlib.figure.Figure at 0x2b0b80720050>"
      ]
     },
     "metadata": {},
     "output_type": "display_data"
    },
    {
     "data": {
      "image/png": "[encoded data removed]",
      "text/plain": [
       "<matplotlib.figure.Figure at 0x2b0b818a0d90>"
      ]
     },
     "metadata": {},
     "output_type": "display_data"
    },
    {
     "name": "stdout",
     "output_type": "stream",
     "text": [
      "\n",
      "Running cross validation for fold 4:\n",
      "===========================================\n",
      "Train Score: 0.709677 Test Score: 0.337838\n"
     ]
    },
    {
     "data": {
      "text/plain": [
       "<matplotlib.figure.Figure at 0x2b0b80749990>"
      ]
     },
     "metadata": {},
     "output_type": "display_data"
    },
    {
     "data": {
      "image/png": "[encoded data removed]",
      "text/plain": [
       "<matplotlib.figure.Figure at 0x2b0b80703150>"
      ]
     },
     "metadata": {},
     "output_type": "display_data"
    },
    {
     "name": "stdout",
     "output_type": "stream",
     "text": [
      "\n",
      "Running cross validation for fold 5:\n",
      "===========================================\n",
      "Train Score: 0.697500 Test Score: 0.304348\n"
     ]
    },
    {
     "data": {
      "text/plain": [
       "<matplotlib.figure.Figure at 0x2b0b8fac8a10>"
      ]
     },
     "metadata": {},
     "output_type": "display_data"
    },
    {
     "data": {
      "image/png": "[encoded data removed]",
      "text/plain": [
       "<matplotlib.figure.Figure at 0x2b0b8f5bf290>"
      ]
     },
     "metadata": {},
     "output_type": "display_data"
    },
    {
     "name": "stdout",
     "output_type": "stream",
     "text": [
      "\n",
      "Running cross validation for fold 6:\n",
      "===========================================\n",
      "Train Score: 0.710784 Test Score: 0.306452\n"
     ]
    },
    {
     "data": {
      "text/plain": [
       "<matplotlib.figure.Figure at 0x2b0b8f653b10>"
      ]
     },
     "metadata": {},
     "output_type": "display_data"
    },
    {
     "data": {
      "image/png": "[encoded data removed]",
      "text/plain": [
       "<matplotlib.figure.Figure at 0x2b0b8faeb5d0>"
      ]
     },
     "metadata": {},
     "output_type": "display_data"
    },
    {
     "name": "stdout",
     "output_type": "stream",
     "text": [
      "\n",
      "Running cross validation for fold 7:\n",
      "===========================================\n",
      "Train Score: 0.717557 Test Score: 0.344371\n"
     ]
    },
    {
     "data": {
      "text/plain": [
       "<matplotlib.figure.Figure at 0x2b0b8fc45710>"
      ]
     },
     "metadata": {},
     "output_type": "display_data"
    },
    {
     "data": {
      "image/png": "[encoded data removed]",
      "text/plain": [
       "<matplotlib.figure.Figure at 0x2b0b8fb9d390>"
      ]
     },
     "metadata": {},
     "output_type": "display_data"
    }
   ],
   "source": [
    "scores, topgenes = evalr.kfold(7, makeROC = True)"
   ]
  },
  {
   "cell_type": "code",
   "execution_count": 24,
   "metadata": {
    "collapsed": false
   },
   "outputs": [
    {
     "name": "stdout",
     "output_type": "stream",
     "text": [
      "  Train_score Test_score\n",
      "1        0.71   0.248276\n",
      "2    0.740291   0.331034\n",
      "3    0.718711   0.295082\n",
      "4    0.709677   0.337838\n",
      "5      0.6975   0.304348\n",
      "6    0.710784   0.306452\n",
      "7    0.717557   0.344371\n",
      "Train: 0.714931646208\n",
      "Test: 0.309628635685\n"
     ]
    }
   ],
   "source": [
    "print scores\n",
    "print \"Train:\", np.mean(scores.Train_score)\n",
    "print \"Test:\", np.mean(scores.Test_score)"
   ]
  },
  {
   "cell_type": "markdown",
   "metadata": {},
   "source": [
    "## Improvements\n",
    "\n",
    "- We appear to have a problem with generalization error.  It may help to tinker with other methods (lasso regression), or try adjusting the regulatization parameter.\n",
    "- need to split train and test data by family ID, like sibkfold"
   ]
  }
 ],
 "metadata": {
  "kernelspec": {
   "display_name": "Python 2",
   "language": "python",
   "name": "python2"
  },
  "language_info": {
   "codemirror_mode": {
    "name": "ipython",
    "version": 2
   },
   "file_extension": ".py",
   "mimetype": "text/x-python",
   "name": "python",
   "nbconvert_exporter": "python",
   "pygments_lexer": "ipython2",
   "version": "2.7.13"
  }
 },
 "nbformat": 4,
 "nbformat_minor": 2
}
