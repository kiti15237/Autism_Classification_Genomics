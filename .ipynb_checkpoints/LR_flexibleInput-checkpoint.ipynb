{
 "cells": [
  {
   "cell_type": "code",
   "execution_count": 2,
   "metadata": {
    "collapsed": true
   },
   "outputs": [],
   "source": [
    "import numpy as np\n",
    "import pandas as pd\n",
    "import matplotlib.pyplot as plt\n",
    "import os\n",
    "from sklearn import linear_model\n",
    "from sklearn.model_selection import train_test_split, cross_val_score, KFold, GroupKFold, GroupShuffleSplit\n",
    "from sklearn.metrics import f1_score, make_scorer, roc_curve\n",
    "import random"
   ]
  },
  {
   "cell_type": "code",
   "execution_count": 3,
   "metadata": {
    "collapsed": false
   },
   "outputs": [],
   "source": [
    "class featureMatrix(object):\n",
    "    def __init__(self, mat, samples, features):\n",
    "        self.mat = mat\n",
    "        self.samples = np.array(samples)\n",
    "        self.features = features\n",
    "        \n",
    "    def getMat(self):\n",
    "        return(self.mat)\n",
    "    \n",
    "    def getSamples(self):\n",
    "        return(self.samples)\n",
    "    \n",
    "    def getFeatures(self):\n",
    "        return(self.features)\n",
    "    \n",
    "    def filterSamplesByName(self, samplesToInclude):\n",
    "        include = [(x in samplesToInclude) for x in self.samples]\n",
    "        self.mat = self.mat[include, :]\n",
    "        self.samples = self.samples[include]\n",
    "        \n",
    "    def nSamples(self):\n",
    "        return(len(self.samples))\n",
    "    \n",
    "    def getSampleSet(self, indices):\n",
    "        return(featureMatrix(self.mat[indices, :], self.samples[indices,], self.features))"
   ]
  },
  {
   "cell_type": "code",
   "execution_count": 4,
   "metadata": {
    "collapsed": false
   },
   "outputs": [],
   "source": [
    "def getPhenotypeData(phenoType = \"\"):\n",
    "    use_colnames = ['identifier', 'diagnosis']\n",
    "    y = pd.read_csv(\"data/all_samples_filtered_labels.csv\", usecols = use_colnames, index_col=0)\n",
    "    y[\"diagnosis\"] = np.where(y['diagnosis'] == 'Autism', 1, 0)\n",
    "    return(y)\n",
    "\n",
    "def getControlIds_Agre_Ssc():\n",
    "    Agre_ctrl = pd.read_csv(\"data/v34_lof_typical_af0.50.txt\", index_col=0).transpose()\n",
    "    SSC_ctrl = pd.read_csv(\"data/SSC_lof_typical_af0.50.txt\", index_col=0).transpose()\n",
    "    X_ctrl = pd.concat([SSC_ctrl, Agre_ctrl], axis = 0).fillna(0)\n",
    "    return(X_ctrl.index.values.tolist())\n",
    "\n",
    "def getOverlappingSubjects(X, y, ped):\n",
    "    subjects = list(set(y.index.values.tolist()) & set(X.getSamples())) #Get ids with gene and phenotype info\n",
    "    \n",
    "    #Add in ids that are implied controlled based on agre and ssc\n",
    "    ctrl_ids = getControlIds_Agre_Ssc()\n",
    "    to_add = set(ctrl_ids) - (set(subjects)) #throw ids that will already be included b/c they have explicit label\n",
    "    y_ctrl = pd.DataFrame(np.zeros(len(to_add),), columns = ['diagnosis'],index = to_add)\n",
    "    y = pd.concat([y, y_ctrl], axis = 0)\n",
    "    subjects = subjects + list(to_add)\n",
    "    \n",
    "    #Filter data to include only selected samples\n",
    "    X.filterSamplesByName(subjects) #include only samples present in provided list\n",
    "    y = y.filter(items = subjects, axis = 0)\n",
    "    y = y.reindex(X.getSamples()) #re-order to match gene info\n",
    "    print(\"All subjects are equivalent in X and y sets: \", sum(y.index.values.tolist() == X.getSamples()) == X.nSamples())\n",
    "    \n",
    "    ped = ped.filter(items = subjects, axis = 0)\n",
    "    ped = ped.reindex(X.getSamples())\n",
    "    print(\"All subjects are equivalent in X and pedigree sets: \", sum(ped.index.values.tolist() == X.getSamples()) == X.nSamples())\n",
    "    return(X, y, ped)\n",
    "    \n",
    "def getPedigree(pedType):\n",
    "    if pedType == \"agre\":\n",
    "        agre_ped = pd.read_csv(\"data/v34.vcf.ped\", \n",
    "                sep = \"\\t\", \n",
    "                usecols = [0,1])\n",
    "        agre_ped.columns = ['fid','sibid']\n",
    "        agre_ped = agre_ped.set_index('sibid')\n",
    "        return(agre_ped)\n",
    "        \n",
    "    if pedType == \"ssc\":\n",
    "        # read ssc ped \n",
    "        ssc_ped = pd.read_csv(\"data/ssc.ped\", sep = \"\\t\", header = None, usecols = [0,1])\n",
    "        ssc_ped.columns = ['fid','sibid']\n",
    "        ssc_ped = ssc_ped.set_index('sibid')\n",
    "        return(ssc_ped)\n",
    "       \n",
    "\n",
    "def concatPedigrees(ped1, ped2):\n",
    "    ped = pd.concat([ped1, ped2], axis = 0, ignore_index = False) \n",
    "    return(ped)\n",
    "    \n",
    "    \n",
    "def getFeatureData(featType):\n",
    "    \n",
    "    if(featType == 'agre_ssc'):\n",
    "        #Returns a np_array, sample list, and features list\n",
    "        Agre_asd = pd.read_csv(\"data/v34_lof_asd_af0.50.txt\", index_col=0).transpose()\n",
    "        Agre_ctrl = pd.read_csv(\"data/v34_lof_typical_af0.50.txt\", index_col=0).transpose()\n",
    "        \n",
    "        SSC_asd = pd.read_csv(\"data/SSC_lof_asd_af0.50.txt\", index_col=0).transpose()\n",
    "        SSC_ctrl = pd.read_csv(\"data/SSC_lof_typical_af0.50.txt\", index_col=0).transpose()\n",
    "        \n",
    "        # merge SSC and Agre data\n",
    "        X_asd = pd.concat([SSC_asd, Agre_asd], axis = 0).fillna(0)\n",
    "        X_ctrl = pd.concat([SSC_ctrl, Agre_ctrl], axis = 0).fillna(0)\n",
    "\n",
    "        X = np.concatenate([X_asd, X_ctrl], axis=0)\n",
    "        samples = X_asd.index.values.tolist() + X_ctrl.index.values.tolist()\n",
    "        features = X_asd.columns.values.tolist()\n",
    "        \n",
    "        X = featureMatrix(featMat, samples, features)\n",
    "        return(X)\n",
    "        \n",
    "        \n",
    "    if(featType == 'miRNA'):\n",
    "        #Returns a np_array , sample list, and features list, b/c memory constraints\n",
    "        import os\n",
    "        matrices = list()\n",
    "        samples = []\n",
    "        features = list()\n",
    "        total = 0\n",
    "        for file in os.listdir(\"data_iHart/miRNA/\"):\n",
    "            if file.endswith(\".npz\"):\n",
    "                file_path = os.path.join(\"data_iHart/miRNA/\", file)\n",
    "                print(file_path)\n",
    "                chrom = np.load(file_path)\n",
    "                matrices.append(pd.DataFrame(chrom['binMatrix']))\n",
    "                samples = [x.decode(\"ascii\") for x in chrom['row_labels']] #Inefficient, but only need one set of sample ids\n",
    "                features.append( chrom['col_labels'])\n",
    "                \n",
    "        featMat = np.concatenate(matrices, axis = 1)\n",
    "        features_unlist = [feat for chrom_featList in features for feat in chrom_featList]\n",
    "        \n",
    "        X = featureMatrix(featMat, samples, features_unlist)\n",
    "        return(X)\n",
    "                \n",
    "        \n",
    "\n",
    "    \n",
    "    "
   ]
  },
  {
   "cell_type": "code",
   "execution_count": 5,
   "metadata": {
    "collapsed": false
   },
   "outputs": [
    {
     "name": "stdout",
     "output_type": "stream",
     "text": [
      "data_iHart/miRNA/miRNA_matrix_1.npz\n",
      "data_iHart/miRNA/miRNA_matrix_10.npz\n",
      "data_iHart/miRNA/miRNA_matrix_11.npz\n",
      "data_iHart/miRNA/miRNA_matrix_12.npz\n",
      "data_iHart/miRNA/miRNA_matrix_13.npz\n",
      "data_iHart/miRNA/miRNA_matrix_14.npz\n",
      "data_iHart/miRNA/miRNA_matrix_15.npz\n",
      "data_iHart/miRNA/miRNA_matrix_16.npz\n",
      "data_iHart/miRNA/miRNA_matrix_17.npz\n",
      "data_iHart/miRNA/miRNA_matrix_18.npz\n",
      "data_iHart/miRNA/miRNA_matrix_19.npz\n",
      "data_iHart/miRNA/miRNA_matrix_2.npz\n",
      "data_iHart/miRNA/miRNA_matrix_20.npz\n",
      "data_iHart/miRNA/miRNA_matrix_21.npz\n",
      "data_iHart/miRNA/miRNA_matrix_22.npz\n",
      "data_iHart/miRNA/miRNA_matrix_3.npz\n",
      "data_iHart/miRNA/miRNA_matrix_4.npz\n",
      "data_iHart/miRNA/miRNA_matrix_5.npz\n",
      "data_iHart/miRNA/miRNA_matrix_6.npz\n",
      "data_iHart/miRNA/miRNA_matrix_7.npz\n",
      "data_iHart/miRNA/miRNA_matrix_8.npz\n",
      "data_iHart/miRNA/miRNA_matrix_9.npz\n"
     ]
    }
   ],
   "source": [
    "X = getFeatureData(featType = \"miRNA\")\n",
    "y = getPhenotypeData()\n",
    "ped = concatPedigrees(getPedigree('agre'), getPedigree('ssc'))"
   ]
  },
  {
   "cell_type": "code",
   "execution_count": 6,
   "metadata": {
    "collapsed": false
   },
   "outputs": [
    {
     "name": "stdout",
     "output_type": "stream",
     "text": [
      "All subjects are equivalent in X and y sets:  True\n",
      "All subjects are equivalent in X and pedigree sets:  True\n"
     ]
    }
   ],
   "source": [
    "X, y, ped = getOverlappingSubjects(X, y, ped)"
   ]
  },
  {
   "cell_type": "code",
   "execution_count": 7,
   "metadata": {
    "collapsed": false
   },
   "outputs": [
    {
     "name": "stdout",
     "output_type": "stream",
     "text": [
      "Number Control :  416\n",
      "Number Cases:  2105\n"
     ]
    }
   ],
   "source": [
    "print(\"Number Control : \", sum(y['diagnosis'] == 0))\n",
    "print(\"Number Cases: \", sum(y['diagnosis'] == 1))"
   ]
  },
  {
   "cell_type": "markdown",
   "metadata": {},
   "source": [
    "Logistic Regression:\n",
    "Now that we have gathered all the data we will need, let's split the data into a train and test set, and use k fold cross-validation on the train set to train a LR model and evaluate our results (once they're good) on the test set."
   ]
  },
  {
   "cell_type": "code",
   "execution_count": 8,
   "metadata": {
    "collapsed": false
   },
   "outputs": [],
   "source": [
    "#Split groups into training and test, being careful about siblings from the same family in the same set\n",
    "group_split = GroupShuffleSplit(test_size=.25, n_splits = 1) #25% test set"
   ]
  },
  {
   "cell_type": "code",
   "execution_count": 9,
   "metadata": {
    "collapsed": false
   },
   "outputs": [],
   "source": [
    "famid_strs = [str(x) for x in ped.loc[:, 'fid']]\n"
   ]
  },
  {
   "cell_type": "code",
   "execution_count": 10,
   "metadata": {
    "collapsed": false
   },
   "outputs": [
    {
     "name": "stdout",
     "output_type": "stream",
     "text": [
      "family ids that appear in both train and test set:  set()\n"
     ]
    }
   ],
   "source": [
    "for train_ind, test_ind in group_split.split(X.getMat(), y, famid_strs):\n",
    "    train_ind = train_ind\n",
    "    test_ind = test_ind\n",
    "    \n",
    "#Check that no family id's overlap\n",
    "train_subj = X.getSamples()[train_ind]\n",
    "test_subj = X.getSamples()[test_ind]\n",
    "train_fid = [str(x) for x in ped.loc[train_subj, 'fid']]\n",
    "test_fid = [str(x) for x in ped.loc[test_subj, 'fid']]\n",
    "\n",
    "print(\"family ids that appear in both train and test set: \", set(train_fid).intersection(set(test_fid)))\n",
    "\n",
    "X_train = X.getSampleSet(train_ind)\n",
    "y_train = y.iloc[train_ind]\n",
    "X_test = X.getSampleSet(test_ind)\n",
    "y_test = y.iloc[test_ind]"
   ]
  },
  {
   "cell_type": "code",
   "execution_count": 11,
   "metadata": {
    "collapsed": false
   },
   "outputs": [],
   "source": [
    "%reload_ext autoreload\n",
    "%autoreload 2\n",
    "from importlib import reload"
   ]
  },
  {
   "cell_type": "code",
   "execution_count": 12,
   "metadata": {
    "collapsed": false
   },
   "outputs": [
    {
     "name": "stdout",
     "output_type": "stream",
     "text": [
      "\n",
      "Running cross validation for fold 1:\n",
      "===========================================\n",
      "Train Score: 0.982288 Test Score: 0.510721\n",
      "AU-ROC 0.510721062619\n",
      "\n",
      "Optimum threshold to maximize training accuracy: 0.637038227062\n",
      "F1: 0.837795275591\n",
      "Accuracy: 0.727513227513\n",
      "Confusion Matrix:\n",
      " [[  9  59]\n",
      " [ 44 266]]\n",
      "\n",
      "Optimum threshold to maximize f1: 0.637038227062\n",
      "F1: 0.837795275591\n",
      "Accuracy: 0.727513227513\n",
      "Confusion Matrix:\n",
      " [[  9  59]\n",
      " [ 44 266]]\n",
      "None\n"
     ]
    },
    {
     "name": "stderr",
     "output_type": "stream",
     "text": [
      "C:\\Users\\Christine\\Anaconda3\\lib\\site-packages\\sklearn\\metrics\\classification.py:1135: UndefinedMetricWarning: F-score is ill-defined and being set to 0.0 due to no predicted samples.\n",
      "  'precision', 'predicted', average, warn_for)\n"
     ]
    },
    {
     "data": {
      "image/png": "[encoded data removed]",
      "text/plain": [
       "<matplotlib.figure.Figure at 0x80350f0>"
      ]
     },
     "metadata": {},
     "output_type": "display_data"
    },
    {
     "name": "stdout",
     "output_type": "stream",
     "text": [
      "\n",
      "Running cross validation for fold 2:\n",
      "===========================================\n",
      "Train Score: 0.981377 Test Score: 0.484811\n",
      "AU-ROC 0.484810673321\n",
      "\n",
      "Optimum threshold to maximize training accuracy: 0.620706306894\n",
      "F1: 0.812199036918\n",
      "Accuracy: 0.690476190476\n",
      "Confusion Matrix:\n",
      " [[  8  59]\n",
      " [ 58 253]]\n",
      "\n",
      "Optimum threshold to maximize f1: 0.617738065105\n",
      "F1: 0.814102564103\n",
      "Accuracy: 0.693121693122\n",
      "Confusion Matrix:\n",
      " [[  8  59]\n",
      " [ 57 254]]\n",
      "None\n"
     ]
    },
    {
     "data": {
      "text/plain": [
       "<matplotlib.figure.Figure at 0x9f22b0>"
      ]
     },
     "metadata": {},
     "output_type": "display_data"
    },
    {
     "data": {
      "image/png": "[encoded data removed]",
      "text/plain": [
       "<matplotlib.figure.Figure at 0xe86fb0>"
      ]
     },
     "metadata": {},
     "output_type": "display_data"
    },
    {
     "name": "stdout",
     "output_type": "stream",
     "text": [
      "\n",
      "Running cross validation for fold 3:\n",
      "===========================================\n",
      "Train Score: 0.981148 Test Score: 0.503302\n",
      "AU-ROC 0.503301886792\n",
      "\n",
      "Optimum threshold to maximize training accuracy: 0.642297829085\n",
      "F1: 0.846275752773\n",
      "Accuracy: 0.743386243386\n",
      "Confusion Matrix:\n",
      " [[ 14  46]\n",
      " [ 51 267]]\n",
      "\n",
      "Optimum threshold to maximize f1: 0.593748887521\n",
      "F1: 0.854914196568\n",
      "Accuracy: 0.753968253968\n",
      "Confusion Matrix:\n",
      " [[ 11  49]\n",
      " [ 44 274]]\n",
      "None\n"
     ]
    },
    {
     "data": {
      "text/plain": [
       "<matplotlib.figure.Figure at 0xa352d0>"
      ]
     },
     "metadata": {},
     "output_type": "display_data"
    },
    {
     "data": {
      "image/png": "[encoded data removed]",
      "text/plain": [
       "<matplotlib.figure.Figure at 0xb6d9b0>"
      ]
     },
     "metadata": {},
     "output_type": "display_data"
    },
    {
     "name": "stdout",
     "output_type": "stream",
     "text": [
      "\n",
      "Running cross validation for fold 4:\n",
      "===========================================\n",
      "Train Score: 0.983887 Test Score: 0.532442\n",
      "AU-ROC 0.532442324756\n",
      "\n",
      "Optimum threshold to maximize training accuracy: 0.605843246035\n",
      "F1: 0.845070422535\n",
      "Accuracy: 0.738095238095\n",
      "Confusion Matrix:\n",
      " [[  9  47]\n",
      " [ 52 270]]\n",
      "\n",
      "Optimum threshold to maximize f1: 0.605843246035\n",
      "F1: 0.845070422535\n",
      "Accuracy: 0.738095238095\n",
      "Confusion Matrix:\n",
      " [[  9  47]\n",
      " [ 52 270]]\n",
      "None\n"
     ]
    },
    {
     "data": {
      "text/plain": [
       "<matplotlib.figure.Figure at 0xd3a6d0>"
      ]
     },
     "metadata": {},
     "output_type": "display_data"
    },
    {
     "data": {
      "image/png": "[encoded data removed]",
      "text/plain": [
       "<matplotlib.figure.Figure at 0xd35050>"
      ]
     },
     "metadata": {},
     "output_type": "display_data"
    },
    {
     "name": "stdout",
     "output_type": "stream",
     "text": [
      "\n",
      "Running cross validation for fold 5:\n",
      "===========================================\n",
      "Train Score: 0.981280 Test Score: 0.555757\n",
      "AU-ROC 0.555756578947\n",
      "\n",
      "Optimum threshold to maximize training accuracy: 0.654295574021\n",
      "F1: 0.847723704867\n",
      "Accuracy: 0.742705570292\n",
      "Confusion Matrix:\n",
      " [[ 10  47]\n",
      " [ 50 270]]\n",
      "\n",
      "Optimum threshold to maximize f1: 0.654295574021\n",
      "F1: 0.847723704867\n",
      "Accuracy: 0.742705570292\n",
      "Confusion Matrix:\n",
      " [[ 10  47]\n",
      " [ 50 270]]\n",
      "None\n"
     ]
    },
    {
     "data": {
      "text/plain": [
       "<matplotlib.figure.Figure at 0xc64050>"
      ]
     },
     "metadata": {},
     "output_type": "display_data"
    },
    {
     "data": {
      "image/png": "[encoded data removed]",
      "text/plain": [
       "<matplotlib.figure.Figure at 0xc360d0>"
      ]
     },
     "metadata": {},
     "output_type": "display_data"
    }
   ],
   "source": [
    "import class_EvalLR\n",
    "from class_EvalLR import EvalLR\n",
    "reload(class_EvalLR)\n",
    "\n",
    "evalr = EvalLR(X_train, y_train, train_fid, reg = 'l1')\n",
    "scores, topvals = evalr.kfold(5, True)"
   ]
  },
  {
   "cell_type": "code",
   "execution_count": 13,
   "metadata": {
    "collapsed": false
   },
   "outputs": [
    {
     "name": "stdout",
     "output_type": "stream",
     "text": [
      "  Train_score Test_score\n",
      "1    0.982288   0.510721\n",
      "2    0.981377   0.484811\n",
      "3    0.981148   0.503302\n",
      "4    0.983887   0.532442\n",
      "5     0.98128   0.555757\n",
      "Train: 0.98199595312\n",
      "Test: 0.517406505287\n"
     ]
    }
   ],
   "source": [
    "print (scores)\n",
    "print (\"Train:\", np.mean(scores.Train_score))\n",
    "print (\"Test:\", np.mean(scores.Test_score))"
   ]
  },
  {
   "cell_type": "code",
   "execution_count": 14,
   "metadata": {
    "collapsed": true
   },
   "outputs": [],
   "source": [
    "# create a plot of preformance versus f1 score for different c values\n",
    "def reg_plot(c_vals, X_train, y_train, train_fid, resample = False):\n",
    "    c_scores = []\n",
    "    print( \"Running 7-fold cross validation for:\")\n",
    "    for i in range(len(c_vals)):\n",
    "        #print \"C = %f\" % c_vals[i]\n",
    "        evalr = EvalLR(X_train, y_train, train_fid, reg = 'l1', c = c_vals[i])\n",
    "        c_scores.append(np.mean(evalr.kfold(7, False, False, resample)[0].Test_score))\n",
    "\n",
    "    plt.clf()\n",
    "    plt.ylabel('Feature 2')\n",
    "    plt.xlabel('Feature 1')\n",
    "    plt.plot(c_vals, c_scores, linestyle = '-')\n",
    "    plt.show()\n",
    "    plt.figure(figsize=(10,10))\n",
    "    return c_vals[c_scores.index(max(c_scores))]"
   ]
  },
  {
   "cell_type": "code",
   "execution_count": null,
   "metadata": {
    "collapsed": false
   },
   "outputs": [
    {
     "name": "stdout",
     "output_type": "stream",
     "text": [
      "Running 7-fold cross validation for:\n"
     ]
    }
   ],
   "source": [
    "import class_EvalLR\n",
    "from class_EvalLR import EvalLR\n",
    "reload(class_EvalLR)\n",
    "c_vals = [2**6, 2**5, 2**4, 2**3, 2**2, 2, 2**-1, 2**-2, 2**-3, 2**-4, 2**-5]\n",
    "c_opt = reg_plot(c_vals, X_train, y_train, train_fid, resample = True)"
   ]
  },
  {
   "cell_type": "code",
   "execution_count": null,
   "metadata": {
    "collapsed": true
   },
   "outputs": [],
   "source": []
  },
  {
   "cell_type": "code",
   "execution_count": null,
   "metadata": {
    "collapsed": false
   },
   "outputs": [],
   "source": [
    "evalr = EvalLR(X_train, y_train, train_fid, reg = 'l1', c = c_opt)\n",
    "scores, topgenes = evalr.kfold(5, True)"
   ]
  },
  {
   "cell_type": "code",
   "execution_count": null,
   "metadata": {
    "collapsed": false
   },
   "outputs": [],
   "source": [
    "print (scores)\n",
    "print (\"Train:\", np.mean(scores.Train_score))\n",
    "print (\"Test:\", np.mean(scores.Test_score))"
   ]
  },
  {
   "cell_type": "markdown",
   "metadata": {},
   "source": [
    "Next step to try will be a combination of coding and non-coding space"
   ]
  }
 ],
 "metadata": {
  "anaconda-cloud": {},
  "kernelspec": {
   "display_name": "Python [default]",
   "language": "python",
   "name": "python3"
  }
 },
 "nbformat": 4,
 "nbformat_minor": 1
}
